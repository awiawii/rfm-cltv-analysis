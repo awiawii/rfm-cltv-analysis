{
 "cells": [
  {
   "cell_type": "markdown",
   "metadata": {},
   "source": [
    "<h1>Customer Lifetime Value Analysis<h1>"
   ]
  },
  {
   "cell_type": "markdown",
   "metadata": {},
   "source": [
    "## Table of Contents\n",
    "* [Overview](#1)\n",
    "* [How to Calculate Customer Lifetime Value](#2)\n",
    "* [Importing Libraries](#3)\n",
    "* [Exploratory Data Analysis and Data Preprocessing](#4)\n",
    "    * [Overview of the Dataset](#4-1)\n",
    "    * [Missing Values](#4-2)\n",
    "    * [Outliers Detection and Handling](#4-3)\n",
    "    * [Feature Engineering](#4-4)\n",
    "    * [Grouping and Aggregating Data](#4-5)\n",
    "* [Customer Lifetime Value (CLTV)](#5)\n",
    "    * [Calculate the Average Purchase Value](#5-1)\n",
    "    * [Calculate the Average Purchase Frequency](#5-2)\n",
    "    * [Calculate the Customer Value](#5-3)\n",
    "    * [Calculate the Average Customer Lifespan](#5-4)\n",
    "    * [Calculate the CLTV](#5-5)\n",
    "* [Export to Excel](#6)    "
   ]
  },
  {
   "cell_type": "markdown",
   "metadata": {},
   "source": [
    "<a id=\"1\"></a>\n",
    "## Overview\n",
    "The lifetime value of a customer is intended to assess the financial worth of each customer. It gauges the amount your business can reasonably expect to earn from a customer over the entire lifetime of the relationship. The CLTV metric can be used to measure how long it takes a business to recoup the investment required to acquire a new customer and retain them, such as costs associated with sales and marketing efforts. This is critical to the financial health of a business since you want to ensure profitability and continued revenue growth.\n",
    "\n",
    "\n",
    "\n"
   ]
  },
  {
   "cell_type": "markdown",
   "metadata": {},
   "source": [
    "<a id=\"2\"></a>\n",
    "## How to Calculate Customer Lifetime Value\n",
    "\n",
    "### Step 1: Average Order Value (AOV)\n",
    "You begin calculating customer lifetime value by understanding how much revenue you generate from the average customer. This is the average order value (AOV).\n",
    "$$AOV=\\frac{Total\\ Revenue}{Total\\ Number\\ of\\ Orders}$$\n",
    "\n",
    "### Step 2: Average Purchase Frequency (APF)\n",
    "To calculate APF, determine the total sales in the same time period used for average order value. Divide that by the number of unique customers that made a purchase. Unique customers mean if a customer made multiple purchases in the selected time period, you only count them once.\n",
    "$$APF=\\frac{Total\\ Orders}{Total\\ Customers}$$\n",
    "\n",
    "### Step 3: Customer Value (CV)\n",
    "Next, multiply the AOV and APF numbers calculated previously to arrive at customer value (CV). This tells you how much revenue the average customer brings to your business over the selected time period.\n",
    "$$CV={Average\\ Order\\ Value\\times Average\\ Purchase\\ Frequency}$$\n",
    "\n",
    "### Step 4: Average Customer Lifespan (ACL)\n",
    "The customer’s lifespan is the amount of time between their first purchase and their last before they no longer patronize your business. You can take an average of this timeframe across all your customers to arrive at the average customer lifespan (ACL).\n",
    "$$ACL=\\frac{Sum\\ of\\ Customer\\ Lifespans}{Number\\ of\\ Customers}$$\n",
    "\n",
    "### Step 5: Customer lifetime value (CLTV)\n",
    "Now that you’ve calculated all the pieces needed, it’s time to put them together to derive the customer lifetime value. The simple approach is to multiply customer value by the average lifespan. The lifetime value calculator, in this case, is as follows:\n",
    "$$CLTV={Customer\\ Value\\times Average\\ Customer\\ Lifespan}$$"
   ]
  },
  {
   "cell_type": "markdown",
   "metadata": {},
   "source": [
    "<a id=\"3\"></a>\n",
    "## Importing Libraries "
   ]
  },
  {
   "cell_type": "code",
   "execution_count": 1,
   "metadata": {},
   "outputs": [],
   "source": [
    "import pandas as pd\n",
    "import datetime as dt\n",
    "\n",
    "import warnings\n",
    "warnings.filterwarnings(\"ignore\")"
   ]
  },
  {
   "cell_type": "markdown",
   "metadata": {},
   "source": [
    "<a id=\"4\"></a>\n",
    "## Exploratory Data Analysis and Data Preprocessing"
   ]
  },
  {
   "cell_type": "markdown",
   "metadata": {},
   "source": [
    "<a id=\"4-1\"></a>\n",
    "### Overview of the Dataset\n",
    "### Variables\n",
    "\n",
    "**Invoice**: Invoice number. The unique number of each transaction, namely the invoice. Aborted operation if it starts with C.\n",
    "\n",
    "**StockCode**: Product code. Unique number for each product.\n",
    "\n",
    "**Description**: Product name\n",
    "\n",
    "**Quantity**: Number of products. It expresses how many of the products on the invoices have been sold.\n",
    "\n",
    "**InvoiceDate**: Invoice date and time.\n",
    "\n",
    "**UnitPrice**: Product price (in GBP)\n",
    "\n",
    "**CustomerID**: Unique customer number\n",
    "\n",
    "**Country**: The country where the customer lives."
   ]
  },
  {
   "cell_type": "code",
   "execution_count": 2,
   "metadata": {},
   "outputs": [],
   "source": [
    "df = pd.read_excel(\"online_retail_II.xlsx\", sheet_name='Year 2010-2011')"
   ]
  },
  {
   "cell_type": "code",
   "execution_count": 3,
   "metadata": {},
   "outputs": [],
   "source": [
    "df_copy = df.copy()"
   ]
  },
  {
   "cell_type": "code",
   "execution_count": 4,
   "metadata": {},
   "outputs": [
    {
     "name": "stdout",
     "output_type": "stream",
     "text": [
      "  Invoice StockCode                          Description  Quantity  \\\n",
      "0  536365    85123A   WHITE HANGING HEART T-LIGHT HOLDER         6   \n",
      "1  536365     71053                  WHITE METAL LANTERN         6   \n",
      "2  536365    84406B       CREAM CUPID HEARTS COAT HANGER         8   \n",
      "3  536365    84029G  KNITTED UNION FLAG HOT WATER BOTTLE         6   \n",
      "4  536365    84029E       RED WOOLLY HOTTIE WHITE HEART.         6   \n",
      "\n",
      "          InvoiceDate  Price  Customer ID         Country  \n",
      "0 2010-12-01 08:26:00   2.55      17850.0  United Kingdom  \n",
      "1 2010-12-01 08:26:00   3.39      17850.0  United Kingdom  \n",
      "2 2010-12-01 08:26:00   2.75      17850.0  United Kingdom  \n",
      "3 2010-12-01 08:26:00   3.39      17850.0  United Kingdom  \n",
      "4 2010-12-01 08:26:00   3.39      17850.0  United Kingdom  \n",
      "(541910, 8)\n",
      "<class 'pandas.core.frame.DataFrame'>\n",
      "RangeIndex: 541910 entries, 0 to 541909\n",
      "Data columns (total 8 columns):\n",
      " #   Column       Non-Null Count   Dtype         \n",
      "---  ------       --------------   -----         \n",
      " 0   Invoice      541910 non-null  object        \n",
      " 1   StockCode    541910 non-null  object        \n",
      " 2   Description  540456 non-null  object        \n",
      " 3   Quantity     541910 non-null  int64         \n",
      " 4   InvoiceDate  541910 non-null  datetime64[ns]\n",
      " 5   Price        541910 non-null  float64       \n",
      " 6   Customer ID  406830 non-null  float64       \n",
      " 7   Country      541910 non-null  object        \n",
      "dtypes: datetime64[ns](1), float64(2), int64(1), object(4)\n",
      "memory usage: 33.1+ MB\n",
      "None\n"
     ]
    }
   ],
   "source": [
    "def info_data():\n",
    "    print(df_copy.head())\n",
    "    print(df_copy.shape)\n",
    "    print(df.info())\n",
    "\n",
    "info_data()"
   ]
  },
  {
   "cell_type": "markdown",
   "metadata": {},
   "source": [
    "<a id=\"4-2\"></a>\n",
    "### Missing Values"
   ]
  },
  {
   "cell_type": "code",
   "execution_count": 5,
   "metadata": {},
   "outputs": [
    {
     "data": {
      "text/plain": [
       "Invoice             0\n",
       "StockCode           0\n",
       "Description      1454\n",
       "Quantity            0\n",
       "InvoiceDate         0\n",
       "Price               0\n",
       "Customer ID    135080\n",
       "Country             0\n",
       "dtype: int64"
      ]
     },
     "execution_count": 5,
     "metadata": {},
     "output_type": "execute_result"
    }
   ],
   "source": [
    "df_copy.isna().sum()"
   ]
  },
  {
   "cell_type": "code",
   "execution_count": 6,
   "metadata": {},
   "outputs": [],
   "source": [
    "df_copy.dropna(inplace=True)"
   ]
  },
  {
   "cell_type": "markdown",
   "metadata": {},
   "source": [
    "<a id=\"4-3\"></a>\n",
    "### Outliers Detection and Handling"
   ]
  },
  {
   "cell_type": "code",
   "execution_count": 7,
   "metadata": {},
   "outputs": [],
   "source": [
    "def outlier_thresholds(dataframe, variable):\n",
    "    quartile1 = dataframe[variable].quantile(0.01)\n",
    "    quartile3 = dataframe[variable].quantile(0.99)\n",
    "    interquantile_range = quartile3 - quartile1\n",
    "    up_limit = quartile3 + 1.5 * interquantile_range\n",
    "    low_limit = quartile1 - 1.5 * interquantile_range\n",
    "    return low_limit, up_limit\n",
    "\n",
    "\n",
    "def replace_with_thresholds(dataframe, variable):\n",
    "    low_limit, up_limit = outlier_thresholds(dataframe, variable)\n",
    "    dataframe.loc[(dataframe[variable] < low_limit), variable] = low_limit\n",
    "    dataframe.loc[(dataframe[variable] > up_limit), variable] = up_limit"
   ]
  },
  {
   "cell_type": "code",
   "execution_count": 8,
   "metadata": {},
   "outputs": [],
   "source": [
    "replace_with_thresholds(df_copy, 'Price')\n",
    "replace_with_thresholds(df_copy, 'Quantity')"
   ]
  },
  {
   "cell_type": "markdown",
   "metadata": {},
   "source": [
    "<a id=\"4-4\"></a>\n",
    "### Feature Engineering"
   ]
  },
  {
   "cell_type": "code",
   "execution_count": 9,
   "metadata": {},
   "outputs": [],
   "source": [
    "country = dict(df_copy['Country'].value_counts())"
   ]
  },
  {
   "cell_type": "code",
   "execution_count": 10,
   "metadata": {},
   "outputs": [],
   "source": [
    "for i in country:\n",
    "    if country[i] < 1000:\n",
    "        df_copy['Country'] = df_copy['Country'].replace({i: 'others'})"
   ]
  },
  {
   "cell_type": "code",
   "execution_count": 11,
   "metadata": {},
   "outputs": [
    {
     "data": {
      "text/plain": [
       "Country\n",
       "United Kingdom    361878\n",
       "Germany             9495\n",
       "France              8492\n",
       "EIRE                7485\n",
       "others              6805\n",
       "Spain               2533\n",
       "Netherlands         2371\n",
       "Belgium             2069\n",
       "Switzerland         1877\n",
       "Portugal            1480\n",
       "Australia           1259\n",
       "Norway              1086\n",
       "Name: count, dtype: int64"
      ]
     },
     "execution_count": 11,
     "metadata": {},
     "output_type": "execute_result"
    }
   ],
   "source": [
    "df_copy['Country'].value_counts()"
   ]
  },
  {
   "cell_type": "code",
   "execution_count": 12,
   "metadata": {},
   "outputs": [],
   "source": [
    "df_copy = df_copy[~df_copy['Invoice'].str.contains('C', na=False)]"
   ]
  },
  {
   "cell_type": "code",
   "execution_count": 13,
   "metadata": {},
   "outputs": [],
   "source": [
    "df_copy = df_copy[df_copy['Price'] > 0]"
   ]
  },
  {
   "cell_type": "code",
   "execution_count": 14,
   "metadata": {},
   "outputs": [],
   "source": [
    "df_copy['TotalPrice'] = df_copy.Price * df_copy.Quantity"
   ]
  },
  {
   "cell_type": "markdown",
   "metadata": {},
   "source": [
    "<a id=\"4-5\"></a>\n",
    "### Grouping and Aggregating Data"
   ]
  },
  {
   "cell_type": "code",
   "execution_count": 15,
   "metadata": {},
   "outputs": [
    {
     "data": {
      "text/plain": [
       "Timestamp('2011-12-09 12:50:00')"
      ]
     },
     "execution_count": 15,
     "metadata": {},
     "output_type": "execute_result"
    }
   ],
   "source": [
    "df_copy['InvoiceDate'].max()\n"
   ]
  },
  {
   "cell_type": "code",
   "execution_count": 16,
   "metadata": {},
   "outputs": [
    {
     "data": {
      "text/plain": [
       "Timestamp('2010-12-01 08:26:00')"
      ]
     },
     "execution_count": 16,
     "metadata": {},
     "output_type": "execute_result"
    }
   ],
   "source": [
    "df_copy['InvoiceDate'].min()"
   ]
  },
  {
   "cell_type": "code",
   "execution_count": 17,
   "metadata": {},
   "outputs": [],
   "source": [
    "today_date = dt.datetime(2011, 12, 11)"
   ]
  },
  {
   "cell_type": "code",
   "execution_count": 18,
   "metadata": {},
   "outputs": [],
   "source": [
    "df_copy = df_copy.groupby(['Customer ID', 'Country']).agg({'TotalPrice':'sum',\n",
    "                              'InvoiceDate': [lambda date: (date.max()-date.min()).days,\n",
    "                                              lambda date: (today_date - date.max()).days],\n",
    "                              'Invoice': lambda Invoice: Invoice.nunique()})"
   ]
  },
  {
   "cell_type": "code",
   "execution_count": 19,
   "metadata": {},
   "outputs": [],
   "source": [
    "df_copy.columns = ['monetary', 'CustomerLifeSpan','recency', 'frequency']\n",
    "df_copy = df_copy.reset_index()"
   ]
  },
  {
   "cell_type": "code",
   "execution_count": 20,
   "metadata": {},
   "outputs": [],
   "source": [
    "df_copy = df_copy[df_copy['frequency'] > 1]\n",
    "df_copy['recency'] = df_copy['recency'] / 7\n",
    "df_copy['CustomerLifeSpan'] = df_copy['CustomerLifeSpan'] / 7"
   ]
  },
  {
   "cell_type": "markdown",
   "metadata": {},
   "source": [
    "<a id=\"5\"></a>\n",
    "## Customer Lifetime Value (CLTV)"
   ]
  },
  {
   "cell_type": "markdown",
   "metadata": {},
   "source": [
    "<a id=\"5-1\"></a>\n",
    "### Calculate the Average Purchase Value:"
   ]
  },
  {
   "cell_type": "code",
   "execution_count": 21,
   "metadata": {},
   "outputs": [],
   "source": [
    "df_copy['Average Purchase Value'] = df_copy['monetary'] / df_copy['frequency']"
   ]
  },
  {
   "cell_type": "markdown",
   "metadata": {},
   "source": [
    "<a id=\"5-2\"></a>\n",
    "### Calculate the Average Purchase Frequency:"
   ]
  },
  {
   "cell_type": "code",
   "execution_count": 22,
   "metadata": {},
   "outputs": [],
   "source": [
    "df_copy['Average purchase frequency'] = df_copy['frequency'].sum() / df_copy['Customer ID'].nunique()"
   ]
  },
  {
   "cell_type": "markdown",
   "metadata": {},
   "source": [
    "<a id=\"5-3\"></a>\n",
    "### Calculate the Customer Value:"
   ]
  },
  {
   "cell_type": "code",
   "execution_count": 23,
   "metadata": {},
   "outputs": [],
   "source": [
    "df_copy['Customer Value'] = df_copy['Average Purchase Value'] * df_copy['Average purchase frequency']"
   ]
  },
  {
   "cell_type": "markdown",
   "metadata": {},
   "source": [
    "<a id=\"5-4\"></a>\n",
    "### Calculate the Average Customer Lifespan:"
   ]
  },
  {
   "cell_type": "code",
   "execution_count": 24,
   "metadata": {},
   "outputs": [],
   "source": [
    "df_copy['Average customer lifespan'] = df_copy['CustomerLifeSpan'].sum() / df_copy['Customer ID'].nunique()"
   ]
  },
  {
   "cell_type": "markdown",
   "metadata": {},
   "source": [
    "<a id=\"5-5\"></a>\n",
    "### Calculate the CLTV:"
   ]
  },
  {
   "cell_type": "code",
   "execution_count": 25,
   "metadata": {},
   "outputs": [],
   "source": [
    "df_copy['CLTV'] = df_copy['Customer Value'] * df_copy['Average customer lifespan']"
   ]
  },
  {
   "cell_type": "code",
   "execution_count": 26,
   "metadata": {},
   "outputs": [
    {
     "data": {
      "text/html": [
       "<div>\n",
       "<style scoped>\n",
       "    .dataframe tbody tr th:only-of-type {\n",
       "        vertical-align: middle;\n",
       "    }\n",
       "\n",
       "    .dataframe tbody tr th {\n",
       "        vertical-align: top;\n",
       "    }\n",
       "\n",
       "    .dataframe thead th {\n",
       "        text-align: right;\n",
       "    }\n",
       "</style>\n",
       "<table border=\"1\" class=\"dataframe\">\n",
       "  <thead>\n",
       "    <tr style=\"text-align: right;\">\n",
       "      <th></th>\n",
       "      <th>Customer ID</th>\n",
       "      <th>Country</th>\n",
       "      <th>monetary</th>\n",
       "      <th>CustomerLifeSpan</th>\n",
       "      <th>recency</th>\n",
       "      <th>frequency</th>\n",
       "      <th>Average Purchase Value</th>\n",
       "      <th>Average purchase frequency</th>\n",
       "      <th>Customer Value</th>\n",
       "      <th>Average customer lifespan</th>\n",
       "      <th>CLTV</th>\n",
       "    </tr>\n",
       "  </thead>\n",
       "  <tbody>\n",
       "    <tr>\n",
       "      <th>1</th>\n",
       "      <td>12347.0</td>\n",
       "      <td>others</td>\n",
       "      <td>4310.000</td>\n",
       "      <td>52.142857</td>\n",
       "      <td>0.428571</td>\n",
       "      <td>7</td>\n",
       "      <td>615.714286</td>\n",
       "      <td>5.989803</td>\n",
       "      <td>3688.007334</td>\n",
       "      <td>28.423649</td>\n",
       "      <td>104826.625168</td>\n",
       "    </tr>\n",
       "    <tr>\n",
       "      <th>2</th>\n",
       "      <td>12348.0</td>\n",
       "      <td>others</td>\n",
       "      <td>1771.905</td>\n",
       "      <td>40.285714</td>\n",
       "      <td>10.857143</td>\n",
       "      <td>4</td>\n",
       "      <td>442.976250</td>\n",
       "      <td>5.989803</td>\n",
       "      <td>2653.340513</td>\n",
       "      <td>28.423649</td>\n",
       "      <td>75417.618845</td>\n",
       "    </tr>\n",
       "    <tr>\n",
       "      <th>5</th>\n",
       "      <td>12352.0</td>\n",
       "      <td>Norway</td>\n",
       "      <td>1757.590</td>\n",
       "      <td>37.142857</td>\n",
       "      <td>5.285714</td>\n",
       "      <td>8</td>\n",
       "      <td>219.698750</td>\n",
       "      <td>5.989803</td>\n",
       "      <td>1315.952253</td>\n",
       "      <td>28.423649</td>\n",
       "      <td>37404.164644</td>\n",
       "    </tr>\n",
       "    <tr>\n",
       "      <th>9</th>\n",
       "      <td>12356.0</td>\n",
       "      <td>Portugal</td>\n",
       "      <td>2811.430</td>\n",
       "      <td>43.142857</td>\n",
       "      <td>3.285714</td>\n",
       "      <td>3</td>\n",
       "      <td>937.143333</td>\n",
       "      <td>5.989803</td>\n",
       "      <td>5613.304038</td>\n",
       "      <td>28.423649</td>\n",
       "      <td>159550.582489</td>\n",
       "    </tr>\n",
       "    <tr>\n",
       "      <th>11</th>\n",
       "      <td>12358.0</td>\n",
       "      <td>others</td>\n",
       "      <td>1151.170</td>\n",
       "      <td>21.285714</td>\n",
       "      <td>0.285714</td>\n",
       "      <td>2</td>\n",
       "      <td>575.585000</td>\n",
       "      <td>5.989803</td>\n",
       "      <td>3447.640814</td>\n",
       "      <td>28.423649</td>\n",
       "      <td>97994.531632</td>\n",
       "    </tr>\n",
       "    <tr>\n",
       "      <th>...</th>\n",
       "      <td>...</td>\n",
       "      <td>...</td>\n",
       "      <td>...</td>\n",
       "      <td>...</td>\n",
       "      <td>...</td>\n",
       "      <td>...</td>\n",
       "      <td>...</td>\n",
       "      <td>...</td>\n",
       "      <td>...</td>\n",
       "      <td>...</td>\n",
       "      <td>...</td>\n",
       "    </tr>\n",
       "    <tr>\n",
       "      <th>4333</th>\n",
       "      <td>18272.0</td>\n",
       "      <td>United Kingdom</td>\n",
       "      <td>3078.580</td>\n",
       "      <td>34.857143</td>\n",
       "      <td>0.428571</td>\n",
       "      <td>6</td>\n",
       "      <td>513.096667</td>\n",
       "      <td>5.989803</td>\n",
       "      <td>3073.348002</td>\n",
       "      <td>28.423649</td>\n",
       "      <td>87355.764191</td>\n",
       "    </tr>\n",
       "    <tr>\n",
       "      <th>4334</th>\n",
       "      <td>18273.0</td>\n",
       "      <td>United Kingdom</td>\n",
       "      <td>204.000</td>\n",
       "      <td>36.428571</td>\n",
       "      <td>0.428571</td>\n",
       "      <td>3</td>\n",
       "      <td>68.000000</td>\n",
       "      <td>5.989803</td>\n",
       "      <td>407.306610</td>\n",
       "      <td>28.423649</td>\n",
       "      <td>11577.140042</td>\n",
       "    </tr>\n",
       "    <tr>\n",
       "      <th>4341</th>\n",
       "      <td>18282.0</td>\n",
       "      <td>United Kingdom</td>\n",
       "      <td>178.050</td>\n",
       "      <td>16.857143</td>\n",
       "      <td>1.142857</td>\n",
       "      <td>2</td>\n",
       "      <td>89.025000</td>\n",
       "      <td>5.989803</td>\n",
       "      <td>533.242220</td>\n",
       "      <td>28.423649</td>\n",
       "      <td>15156.689591</td>\n",
       "    </tr>\n",
       "    <tr>\n",
       "      <th>4342</th>\n",
       "      <td>18283.0</td>\n",
       "      <td>United Kingdom</td>\n",
       "      <td>2094.880</td>\n",
       "      <td>47.571429</td>\n",
       "      <td>0.571429</td>\n",
       "      <td>16</td>\n",
       "      <td>130.930000</td>\n",
       "      <td>5.989803</td>\n",
       "      <td>784.244919</td>\n",
       "      <td>28.423649</td>\n",
       "      <td>22291.102142</td>\n",
       "    </tr>\n",
       "    <tr>\n",
       "      <th>4343</th>\n",
       "      <td>18287.0</td>\n",
       "      <td>United Kingdom</td>\n",
       "      <td>1837.280</td>\n",
       "      <td>22.571429</td>\n",
       "      <td>6.142857</td>\n",
       "      <td>3</td>\n",
       "      <td>612.426667</td>\n",
       "      <td>5.989803</td>\n",
       "      <td>3668.315143</td>\n",
       "      <td>28.423649</td>\n",
       "      <td>104266.901255</td>\n",
       "    </tr>\n",
       "  </tbody>\n",
       "</table>\n",
       "<p>2847 rows × 11 columns</p>\n",
       "</div>"
      ],
      "text/plain": [
       "      Customer ID         Country  monetary  CustomerLifeSpan    recency  \\\n",
       "1         12347.0          others  4310.000         52.142857   0.428571   \n",
       "2         12348.0          others  1771.905         40.285714  10.857143   \n",
       "5         12352.0          Norway  1757.590         37.142857   5.285714   \n",
       "9         12356.0        Portugal  2811.430         43.142857   3.285714   \n",
       "11        12358.0          others  1151.170         21.285714   0.285714   \n",
       "...           ...             ...       ...               ...        ...   \n",
       "4333      18272.0  United Kingdom  3078.580         34.857143   0.428571   \n",
       "4334      18273.0  United Kingdom   204.000         36.428571   0.428571   \n",
       "4341      18282.0  United Kingdom   178.050         16.857143   1.142857   \n",
       "4342      18283.0  United Kingdom  2094.880         47.571429   0.571429   \n",
       "4343      18287.0  United Kingdom  1837.280         22.571429   6.142857   \n",
       "\n",
       "      frequency  Average Purchase Value  Average purchase frequency  \\\n",
       "1             7              615.714286                    5.989803   \n",
       "2             4              442.976250                    5.989803   \n",
       "5             8              219.698750                    5.989803   \n",
       "9             3              937.143333                    5.989803   \n",
       "11            2              575.585000                    5.989803   \n",
       "...         ...                     ...                         ...   \n",
       "4333          6              513.096667                    5.989803   \n",
       "4334          3               68.000000                    5.989803   \n",
       "4341          2               89.025000                    5.989803   \n",
       "4342         16              130.930000                    5.989803   \n",
       "4343          3              612.426667                    5.989803   \n",
       "\n",
       "      Customer Value  Average customer lifespan           CLTV  \n",
       "1        3688.007334                  28.423649  104826.625168  \n",
       "2        2653.340513                  28.423649   75417.618845  \n",
       "5        1315.952253                  28.423649   37404.164644  \n",
       "9        5613.304038                  28.423649  159550.582489  \n",
       "11       3447.640814                  28.423649   97994.531632  \n",
       "...              ...                        ...            ...  \n",
       "4333     3073.348002                  28.423649   87355.764191  \n",
       "4334      407.306610                  28.423649   11577.140042  \n",
       "4341      533.242220                  28.423649   15156.689591  \n",
       "4342      784.244919                  28.423649   22291.102142  \n",
       "4343     3668.315143                  28.423649  104266.901255  \n",
       "\n",
       "[2847 rows x 11 columns]"
      ]
     },
     "execution_count": 26,
     "metadata": {},
     "output_type": "execute_result"
    }
   ],
   "source": [
    "df_copy"
   ]
  },
  {
   "cell_type": "markdown",
   "metadata": {},
   "source": [
    "<a id=\"6\"></a>\n",
    "## Export to Excel"
   ]
  },
  {
   "cell_type": "code",
   "execution_count": 27,
   "metadata": {},
   "outputs": [],
   "source": [
    "df_copy.to_excel(\"CLTV-analysis.xlsx\", index=False)"
   ]
  }
 ],
 "metadata": {
  "kernelspec": {
   "display_name": "Python 3",
   "language": "python",
   "name": "python3"
  },
  "language_info": {
   "codemirror_mode": {
    "name": "ipython",
    "version": 3
   },
   "file_extension": ".py",
   "mimetype": "text/x-python",
   "name": "python",
   "nbconvert_exporter": "python",
   "pygments_lexer": "ipython3",
   "version": "3.11.7"
  }
 },
 "nbformat": 4,
 "nbformat_minor": 2
}
